{
  "nbformat": 4,
  "nbformat_minor": 0,
  "metadata": {
    "colab": {
      "provenance": [],
      "authorship_tag": "ABX9TyOxn8RyhJ+YlTEAP0I7Gqve",
      "include_colab_link": true
    },
    "kernelspec": {
      "name": "python3",
      "display_name": "Python 3"
    },
    "language_info": {
      "name": "python"
    }
  },
  "cells": [
    {
      "cell_type": "markdown",
      "metadata": {
        "id": "view-in-github",
        "colab_type": "text"
      },
      "source": [
        "<a href=\"https://colab.research.google.com/github/The-DigitalAcademy/TrendHunt-Application/blob/Streamlit/Untitled4.ipynb\" target=\"_parent\"><img src=\"https://colab.research.google.com/assets/colab-badge.svg\" alt=\"Open In Colab\"/></a>"
      ]
    },
    {
      "cell_type": "code",
      "execution_count": null,
      "metadata": {
        "id": "UqwKGMWn3Sg1"
      },
      "outputs": [],
      "source": [
        "import streamlit as st\n",
        "import cv2\n",
        "import numpy as np\n",
        "import tensorflow as tf\n",
        "from object_detection.utils import label_map_util\n",
        "from object_detection.utils import visualization_utils as viz_utils\n",
        "\n",
        "# Load the saved model and label map\n",
        "PATH_TO_SAVED_MODEL = 'path/to/your/saved/model'\n",
        "PATH_TO_LABELS = 'path/to/label/map.pbtxt'\n",
        "\n",
        "# Load the model\n",
        "tf.keras.backend.clear_session()\n",
        "detect_fn = tf.saved_model.load(PATH_TO_SAVED_MODEL)\n",
        "\n",
        "# Load the label map\n",
        "category_index = label_map_util.create_category_index_from_labelmap(PATH_TO_LABELS, use_display_name=True)\n",
        "\n",
        "# Create a Streamlit web app\n",
        "st.title(\"Real-Time Object Detection with TensorFlow and Streamlit\")\n",
        "\n",
        "# Open a webcam stream\n",
        "cap = cv2.VideoCapture(0)\n",
        "\n",
        "# Create a Streamlit container for displaying the webcam feed\n",
        "frame_container = st.empty()\n",
        "\n",
        "while True:\n",
        "    ret, image_np = cap.read()\n",
        "\n",
        "    input_tensor = tf.convert_to_tensor(image_np)\n",
        "    detections = detect_fn(input_tensor)\n",
        "\n",
        "    num_detections = int(detections.pop('num_detections'))\n",
        "    detections = {key: value[0, :num_detections].numpy() for key, value in detections.items()}\n",
        "    detections['num_detections'] = num_detections\n",
        "\n",
        "    detections['detection_classes'] = detections['detection_classes'].astype(np.int64)\n",
        "\n",
        "    image_np_with_detections = image_np.copy()\n",
        "\n",
        "    viz_utils.visualize_boxes_and_labels_on_image_array(\n",
        "        image_np_with_detections,\n",
        "        detections['detection_boxes'],\n",
        "        detections['detection_classes'],\n",
        "        detections['detection_scores'],\n",
        "        category_index,\n",
        "        use_normalized_coordinates=True,\n",
        "        max_boxes_to_draw=5,\n",
        "        min_score_thresh=0.5,\n",
        "        agnostic_mode=False)\n",
        "\n",
        "    # Display the webcam feed and object detections in Streamlit\n",
        "    frame_container.image(cv2.cvtColor(image_np_with_detections, cv2.COLOR_BGR2RGB), use_column_width=True)\n",
        "\n",
        "    if st.button(\"Quit\"):\n",
        "        cap.release()\n",
        "        cv2.destroyAllWindows()\n",
        "        break"
      ]
    }
  ]
}